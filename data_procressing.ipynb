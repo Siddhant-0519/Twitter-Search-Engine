{
 "cells": [
  {
   "cell_type": "code",
   "execution_count": 21,
   "metadata": {},
   "outputs": [
    {
     "name": "stdout",
     "output_type": "stream",
     "text": [
      "(48105, 12)\n",
      "(24170, 12)\n"
     ]
    }
   ],
   "source": [
    "import json\n",
    "import pandas\n",
    "\n",
    "f = open(\"data_tweets3.json\",\"r\", encoding= 'utf-8')\n",
    "j = json.load(f)\n",
    "df = pandas.DataFrame(j)\n",
    "print(df.shape)\n",
    "df = df.drop_duplicates('id')\n",
    "df = df[df[\"language\"] == \"en\"]\n",
    "print(df.shape)\n",
    "\n",
    "# df.shape"
   ]
  },
  {
   "cell_type": "code",
   "execution_count": 28,
   "metadata": {},
   "outputs": [],
   "source": [
    "with open(\"blah.json\",\"w\") as f:\n",
    "    f.write(df.to_json(orient=\"records\"))"
   ]
  }
 ],
 "metadata": {
  "interpreter": {
   "hash": "282dc20c663565a1bce888322f419ff24f3a3628535894a613508896d86312a5"
  },
  "kernelspec": {
   "display_name": "Python 3.9.9 64-bit",
   "language": "python",
   "name": "python3"
  },
  "language_info": {
   "codemirror_mode": {
    "name": "ipython",
    "version": 3
   },
   "file_extension": ".py",
   "mimetype": "text/x-python",
   "name": "python",
   "nbconvert_exporter": "python",
   "pygments_lexer": "ipython3",
   "version": "3.9.9"
  },
  "orig_nbformat": 4
 },
 "nbformat": 4,
 "nbformat_minor": 2
}
